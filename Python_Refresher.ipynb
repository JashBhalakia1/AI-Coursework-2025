{
 "cells": [
  {
   "cell_type": "code",
   "execution_count": 3,
   "id": "1f41a25c-9ae3-4666-b752-efa2a3728761",
   "metadata": {},
   "outputs": [
    {
     "name": "stdin",
     "output_type": "stream",
     "text": [
      "Enter Number of days:  20\n"
     ]
    },
    {
     "name": "stdout",
     "output_type": "stream",
     "text": [
      "There are 1728000 seconds in 20 days.\n"
     ]
    }
   ],
   "source": [
    "#Question 1: Write a program that asks the user for a number of days\n",
    "#Ask the user for number of days\n",
    "\n",
    "days = int(input(\"Enter Number of days: \"))\n",
    "\n",
    "seconds = days * 24 * 60 * 60\n",
    "\n",
    "print(f\"There are {seconds} seconds in {days} days.\")"
   ]
  },
  {
   "cell_type": "code",
   "execution_count": 4,
   "id": "fb955c88-5cf6-4188-91ac-8d808e35de99",
   "metadata": {},
   "outputs": [
    {
     "name": "stdin",
     "output_type": "stream",
     "text": [
      "Enter the radius of the sphere:  3\n"
     ]
    },
    {
     "name": "stdout",
     "output_type": "stream",
     "text": [
      "The volume of the sphere with radius 3.0 is 113.10\n"
     ]
    }
   ],
   "source": [
    "import math\n",
    "radius = float(input(\"Enter the radius of the sphere: \"))\n",
    "volume = (4/3) * math.pi * (radius ** 3)\n",
    "print(f\"The volume of the sphere with radius {radius} is {volume:.2f}\")"
   ]
  },
  {
   "cell_type": "code",
   "execution_count": 15,
   "id": "ce95e0ad-7ed6-4f92-978c-c11887b2e92b",
   "metadata": {},
   "outputs": [
    {
     "name": "stdin",
     "output_type": "stream",
     "text": [
      "Enter side length of the square:  2\n"
     ]
    },
    {
     "name": "stdout",
     "output_type": "stream",
     "text": [
      "Area of square: 4.0\n",
      "Perimeter of square: 8.0\n"
     ]
    }
   ],
   "source": [
    "\n",
    "def square_area(side):\n",
    "    return side * side\n",
    "def square_perimeter(side):\n",
    "    return 4 * side\n",
    "side = float(input(\"Enter side length of the square: \"))\n",
    "print(f\"Area of square: {square_area(side)}\")\n",
    "print(f\"Perimeter of square: {square_perimeter(side)}\")\n",
    "\n",
    "\n"
   ]
  },
  {
   "cell_type": "code",
   "execution_count": 41,
   "id": "1463086a-6bcd-4ce0-b848-024873de9b8b",
   "metadata": {},
   "outputs": [
    {
     "name": "stdin",
     "output_type": "stream",
     "text": [
      "Enter a single character:  2\n"
     ]
    },
    {
     "name": "stdout",
     "output_type": "stream",
     "text": [
      "The character '2' is Not a Letter.\n"
     ]
    }
   ],
   "source": [
    "def check_character(ch):\n",
    "    \"\"\"Return whether the character is uppercase, lowercase, or other.\"\"\"\n",
    "    if ch.isupper():\n",
    "        return \"Uppercase\"\n",
    "    elif ch.islower():\n",
    "        return \"Lowercase\"\n",
    "    else:\n",
    "        return \"Not a Letter\"\n",
    "\n",
    "# Ask the user to enter a character\n",
    "ch = input(\"Enter a single character: \")\n",
    "\n",
    "if len(ch) != 1:\n",
    "    print(\"Please enter only one character.\")\n",
    "else:\n",
    "    print(f\"The character '{ch}' is {check_character(ch)}.\")\n"
   ]
  },
  {
   "cell_type": "code",
   "execution_count": 1,
   "id": "9fd2bbee-bc2d-408e-9aef-205174aac067",
   "metadata": {},
   "outputs": [
    {
     "name": "stdout",
     "output_type": "stream",
     "text": [
      "Final value of x is: 0.125\n",
      "Final value of x is: 0.29166666666666663\n",
      "Final value of x is: 0.5416666666666666\n"
     ]
    }
   ],
   "source": [
    "#Question 5: Translate pseudocode into Python code.\n",
    "x = 0\n",
    "y = 20\n",
    "while True:\n",
    "    y = y - 4\n",
    "    x = x + (2 / y)\n",
    "    if y < 6:\n",
    "        break\n",
    "    print(\"Final value of x is:\", x)"
   ]
  },
  {
   "cell_type": "code",
   "execution_count": 2,
   "id": "a0243e8c-f427-42c4-9fb9-fd7a2b47c03b",
   "metadata": {},
   "outputs": [
    {
     "name": "stdin",
     "output_type": "stream",
     "text": [
      "Enter value 1:  2\n",
      "Enter value 2:  2\n",
      "Enter value 3:  4\n",
      "Enter value 4:  5\n",
      "Enter value 5:  6\n"
     ]
    },
    {
     "name": "stdout",
     "output_type": "stream",
     "text": [
      "Values entered: [2.0, 2.0, 4.0, 5.0, 6.0]\n",
      "Average: 3.8\n"
     ]
    }
   ],
   "source": [
    "#Question 6: Input 5 values and compute average\n",
    "\n",
    "values = []\n",
    "for i in range(5):\n",
    "   num = float(input(f\"Enter value {i+1}: \"))\n",
    "   values.append(num)\n",
    "   \n",
    "average = sum(values) / len(values)\n",
    "print(\"Values entered:\", values)\n",
    "print(\"Average:\", average)"
   ]
  },
  {
   "cell_type": "code",
   "execution_count": null,
   "id": "1184d510-6c83-4459-97bd-3326be6f1ae8",
   "metadata": {},
   "outputs": [],
   "source": []
  }
 ],
 "metadata": {
  "kernelspec": {
   "display_name": "Python 3 (ipykernel)",
   "language": "python",
   "name": "python3"
  },
  "language_info": {
   "codemirror_mode": {
    "name": "ipython",
    "version": 3
   },
   "file_extension": ".py",
   "mimetype": "text/x-python",
   "name": "python",
   "nbconvert_exporter": "python",
   "pygments_lexer": "ipython3",
   "version": "3.13.7"
  }
 },
 "nbformat": 4,
 "nbformat_minor": 5
}
